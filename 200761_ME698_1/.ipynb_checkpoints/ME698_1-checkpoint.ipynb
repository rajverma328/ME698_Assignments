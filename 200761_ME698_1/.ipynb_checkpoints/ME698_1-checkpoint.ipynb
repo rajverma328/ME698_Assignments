{
 "cells": [
  {
   "cell_type": "code",
   "execution_count": 10,
   "id": "de807fef",
   "metadata": {},
   "outputs": [],
   "source": [
    "import numpy as np\n",
    "import matplotlib.pyplot as plt\n",
    "from sklearn.datasets import make_classification\n",
    "from sklearn.neighbors import KNeighborsClassifier\n",
    "from matplotlib.colors import ListedColormap\n",
    "\n",
    "# Given data\n",
    "data = [\n",
    "    (15.5, 40, 0),\n",
    "    (23.75, 23.25, 0),\n",
    "    (8, 17, 1),\n",
    "    (17, 21, 0),\n",
    "    (5.5, 10, 1),\n",
    "    (19, 12, 1),\n",
    "    (24, 20, 0),\n",
    "    (2.5, 12, 1),\n",
    "    (7.5, 15, 1),\n",
    "    (11, 26, 0)\n",
    "]\n",
    "# pass = 1 ; fail = 0"
   ]
  },
  {
   "cell_type": "code",
   "execution_count": 11,
   "id": "d76b8417",
   "metadata": {},
   "outputs": [
    {
     "name": "stdout",
     "output_type": "stream",
     "text": [
      "[[15.5  40.  ]\n",
      " [23.75 23.25]\n",
      " [ 8.   17.  ]\n",
      " [17.   21.  ]\n",
      " [ 5.5  10.  ]\n",
      " [19.   12.  ]\n",
      " [24.   20.  ]\n",
      " [ 2.5  12.  ]\n",
      " [ 7.5  15.  ]\n",
      " [11.   26.  ]]\n",
      "[0 0 1 0 1 1 0 1 1 0]\n"
     ]
    }
   ],
   "source": [
    "# Extract features and labels from the data\n",
    "features = np.array([(age, temp) for age, temp, _ in data])\n",
    "labels = np.array([label for _, _, label in data])\n",
    "print(features)\n",
    "print(labels)"
   ]
  },
  {
   "cell_type": "code",
   "execution_count": 12,
   "id": "b4636da6",
   "metadata": {},
   "outputs": [],
   "source": [
    "# Create kNN model with k = 5\n",
    "k = 5\n",
    "knn_model = KNeighborsClassifier(n_neighbors=k)\n",
    "knn_model.fit(features, labels);"
   ]
  },
  {
   "cell_type": "code",
   "execution_count": 13,
   "id": "e16315c9",
   "metadata": {
    "scrolled": true
   },
   "outputs": [],
   "source": [
    "def plot_decision_boundary(model, X, y, n_neighbors):\n",
    "    cmap_light = ListedColormap(['#FFAAAA', '#AAFFAA'])\n",
    "    cmap_bold = ListedColormap(['#FF0000', '#00FF00'])\n",
    "    h = .02  # Step size in the mesh\n",
    "\n",
    "    # Creating a meshgrid \n",
    "    x_min, x_max = X[:, 0].min() - 1, X[:, 0].max() + 1\n",
    "    y_min, y_max = X[:, 1].min() - 1, X[:, 1].max() + 1\n",
    "    xx, yy = np.meshgrid(np.arange(x_min, x_max, h), np.arange(y_min, y_max, h))\n",
    "\n",
    "    # Predict the class labels for each point in the meshgrid\n",
    "    Z = model.predict(np.c_[xx.ravel(), yy.ravel()])\n",
    "\n",
    "    # Reshape the result to create a grid of predictions\n",
    "    Z = Z.reshape(xx.shape)\n",
    "\n",
    "    # Plot the decision boundary and the data points\n",
    "    plt.figure()\n",
    "    plt.pcolormesh(xx, yy, Z, cmap=cmap_light)\n",
    "\n",
    "    # Plot training points\n",
    "    plt.scatter(X[:, 0], X[:, 1], c=y, cmap=cmap_bold, edgecolor='k', s=20)\n",
    "    plt.xlim(xx.min(), xx.max())\n",
    "    plt.ylim(yy.min(), yy.max())\n",
    "    plt.title(f\"kNN Decision Boundary (k={n_neighbors})\")\n",
    "    plt.xlabel('propellant age (weeks)')\n",
    "    plt.ylabel('propellant temperature ()')\n",
    "    plt.show()"
   ]
  },
  {
   "cell_type": "code",
   "execution_count": 14,
   "id": "4e84d200",
   "metadata": {},
   "outputs": [
    {
     "data": {
      "image/png": "[encoded data removed]",
      "text/plain": [
       "<Figure size 432x288 with 1 Axes>"
      ]
     },
     "metadata": {
      "needs_background": "light"
     },
     "output_type": "display_data"
    }
   ],
   "source": [
    "# Plotting decision boundary\n",
    "plot_decision_boundary(knn_model,features, labels, n_neighbors=5)"
   ]
  },
  {
   "cell_type": "markdown",
   "id": "b1ff6c60",
   "metadata": {},
   "source": [
    "# leave one out cross-validation (LOOCV)"
   ]
  },
  {
   "cell_type": "code",
   "execution_count": 17,
   "id": "837156c5",
   "metadata": {},
   "outputs": [
    {
     "data": {
      "image/png": "[encoded data removed]",
      "text/plain": [
       "<Figure size 432x288 with 1 Axes>"
      ]
     },
     "metadata": {
      "needs_background": "light"
     },
     "output_type": "display_data"
    },
    {
     "name": "stdout",
     "output_type": "stream",
     "text": [
      "Optimum value of k: 1\n"
     ]
    }
   ],
   "source": [
    "from sklearn.metrics import accuracy_score\n",
    "\n",
    "# Convert data into numpy array\n",
    "data = np.array(data)\n",
    "\n",
    "# Extract features and labels\n",
    "features = data[:, :2]\n",
    "labels = data[:, 2]\n",
    "\n",
    "# Perform LOOCV\n",
    "n_samples = len(features)\n",
    "k_values = range(1, n_samples)  # Trying k values from 1 to n-1\n",
    "accuracies = []\n",
    "\n",
    "for k in k_values:\n",
    "    loocv_accuracy = 0.0  # Initialize as float\n",
    "\n",
    "    for i in range(n_samples):\n",
    "        leave_one_out_features = np.delete(features, i, axis=0)\n",
    "        leave_one_out_labels = np.delete(labels, i)\n",
    "\n",
    "        knn_model = KNeighborsClassifier(n_neighbors=k)\n",
    "        knn_model.fit(leave_one_out_features, leave_one_out_labels)\n",
    "\n",
    "        prediction = knn_model.predict(features[i].reshape(1, -1))  # Reshape for prediction\n",
    "        loocv_accuracy += (prediction == labels[i])\n",
    "\n",
    "    loocv_accuracy /= float(n_samples)  # Convert to float\n",
    "    accuracies.append(loocv_accuracy)\n",
    "\n",
    "# Plot validation results\n",
    "plt.plot(k_values, accuracies, marker='o')\n",
    "plt.xlabel('Number of Neighbors (k)')\n",
    "plt.ylabel('Accuracy')\n",
    "plt.title('LOOCV Validation Results')\n",
    "plt.xticks(k_values)\n",
    "plt.grid()\n",
    "plt.show()\n",
    "\n",
    "# Find the optimum value of k with the highest accuracy\n",
    "optimal_k = k_values[np.argmax(accuracies)]\n",
    "print(f'Optimum value of k: {optimal_k}')"
   ]
  },
  {
   "cell_type": "markdown",
   "id": "8ca4098e",
   "metadata": {},
   "source": [
    "The determination of the optimal value of k in the Leave-One-Out Cross-Validation (LOOCV) test is a crucial step in effectively applying the k-Nearest Neighbors (kNN) algorithm. In LOOCV, each data point is successively treated as a validation sample while the remaining points form the training set. The chosen k value influences the balance between model complexity and bias. For very small k values, the algorithm might be overly sensitive to noise, leading to an erratic decision boundary that captures noise instead of underlying patterns. Conversely, when k is very large, the boundary can become too smooth, potentially overlooking important local structures in the data. The optimum k is the one that yields the highest accuracy on the validation set while avoiding both overfitting and underfitting. The kNN algorithm is prone to overfitting with smaller k values, causing it to conform too closely to the training data. As k increases, the algorithm generalizes better to new data, reducing overfitting but possibly leading to increased bias. Thus, the selection of an appropriate k value is a trade-off that necessitates a careful consideration of model complexity and bias, balancing the ability to capture patterns in the data with the ability to avoid noise."
   ]
  }
 ],
 "metadata": {
  "kernelspec": {
   "display_name": "Python 3 (ipykernel)",
   "language": "python",
   "name": "python3"
  },
  "language_info": {
   "codemirror_mode": {
    "name": "ipython",
    "version": 3
   },
   "file_extension": ".py",
   "mimetype": "text/x-python",
   "name": "python",
   "nbconvert_exporter": "python",
   "pygments_lexer": "ipython3",
   "version": "3.8.10"
  }
 },
 "nbformat": 4,
 "nbformat_minor": 5
}
